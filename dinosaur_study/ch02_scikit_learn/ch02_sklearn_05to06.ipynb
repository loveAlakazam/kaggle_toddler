{
 "cells": [
  {
   "cell_type": "markdown",
   "metadata": {},
   "source": [
    "# LabelEncoding"
   ]
  },
  {
   "cell_type": "code",
   "execution_count": 1,
   "metadata": {},
   "outputs": [
    {
     "name": "stdout",
     "output_type": "stream",
     "text": [
      "인코딩 변환값:  [ 6  8  7 13 15 10 17 11  3  9  1 14  2 12  5 16  0  4]\n"
     ]
    }
   ],
   "source": [
    "from sklearn.preprocessing import LabelEncoder\n",
    "\n",
    "pokemons_types=['땅','바위','물','얼음','전기','불','풀','비행','노멀', '벌레', \\\n",
    "                '격투','에스퍼','고스트', '악', '드래곤','페어리', '강철', '독']\n",
    "\n",
    "# LabelEncoder를 객체로 생성한 후, fit()\n",
    "encoder = LabelEncoder()\n",
    "encoder.fit(pokemons_types)\n",
    "labels=encoder.transform(pokemons_types)\n",
    "print('인코딩 변환값: ', labels)"
   ]
  },
  {
   "cell_type": "code",
   "execution_count": 2,
   "metadata": {},
   "outputs": [
    {
     "data": {
      "text/plain": [
       "{'땅': 6,\n",
       " '바위': 8,\n",
       " '물': 7,\n",
       " '얼음': 13,\n",
       " '전기': 15,\n",
       " '불': 10,\n",
       " '풀': 17,\n",
       " '비행': 11,\n",
       " '노멀': 3,\n",
       " '벌레': 9,\n",
       " '격투': 1,\n",
       " '에스퍼': 14,\n",
       " '고스트': 2,\n",
       " '악': 12,\n",
       " '드래곤': 5,\n",
       " '페어리': 16,\n",
       " '강철': 0,\n",
       " '독': 4}"
      ]
     },
     "execution_count": 2,
     "metadata": {},
     "output_type": "execute_result"
    }
   ],
   "source": [
    "pokemons_types_dict={}\n",
    "for num, ptype in zip(pokemons_types,labels):\n",
    "    pokemons_types_dict[num]=ptype\n",
    "pokemons_types_dict"
   ]
  },
  {
   "cell_type": "code",
   "execution_count": 3,
   "metadata": {},
   "outputs": [
    {
     "data": {
      "text/plain": [
       "[('강철', 0),\n",
       " ('격투', 1),\n",
       " ('고스트', 2),\n",
       " ('노멀', 3),\n",
       " ('독', 4),\n",
       " ('드래곤', 5),\n",
       " ('땅', 6),\n",
       " ('물', 7),\n",
       " ('바위', 8),\n",
       " ('벌레', 9),\n",
       " ('불', 10),\n",
       " ('비행', 11),\n",
       " ('악', 12),\n",
       " ('얼음', 13),\n",
       " ('에스퍼', 14),\n",
       " ('전기', 15),\n",
       " ('페어리', 16),\n",
       " ('풀', 17)]"
      ]
     },
     "execution_count": 3,
     "metadata": {},
     "output_type": "execute_result"
    }
   ],
   "source": [
    "pokemons_types_dict=sorted(pokemons_types_dict.items())\n",
    "pokemons_types_dict"
   ]
  },
  {
   "cell_type": "code",
   "execution_count": 4,
   "metadata": {},
   "outputs": [
    {
     "name": "stdout",
     "output_type": "stream",
     "text": [
      "0 - 강철\n",
      "1 - 격투\n",
      "2 - 고스트\n",
      "3 - 노멀\n",
      "4 - 독\n",
      "5 - 드래곤\n",
      "6 - 땅\n",
      "7 - 물\n",
      "8 - 바위\n",
      "9 - 벌레\n",
      "10 - 불\n",
      "11 - 비행\n",
      "12 - 악\n",
      "13 - 얼음\n",
      "14 - 에스퍼\n",
      "15 - 전기\n",
      "16 - 페어리\n",
      "17 - 풀\n"
     ]
    }
   ],
   "source": [
    "for item ,key in pokemons_types_dict: # item: 포켓몬타입, key: 숫자(0~17)\n",
    "    print('{} - {}'.format(key,item) )"
   ]
  },
  {
   "cell_type": "code",
   "execution_count": 5,
   "metadata": {},
   "outputs": [
    {
     "name": "stdout",
     "output_type": "stream",
     "text": [
      "인코딩 클래스\n",
      " ['강철' '격투' '고스트' '노멀' '독' '드래곤' '땅' '물' '바위' '벌레' '불' '비행' '악' '얼음' '에스퍼'\n",
      " '전기' '페어리' '풀']\n"
     ]
    }
   ],
   "source": [
    "print('인코딩 클래스\\n', encoder.classes_)"
   ]
  },
  {
   "cell_type": "code",
   "execution_count": 6,
   "metadata": {
    "scrolled": true
   },
   "outputs": [
    {
     "name": "stdout",
     "output_type": "stream",
     "text": [
      "0 - 강철\n",
      "1 - 격투\n",
      "2 - 고스트\n",
      "3 - 노멀\n",
      "4 - 독\n",
      "5 - 드래곤\n",
      "6 - 땅\n",
      "7 - 물\n",
      "8 - 바위\n",
      "9 - 벌레\n",
      "10 - 불\n",
      "11 - 비행\n",
      "12 - 악\n",
      "13 - 얼음\n",
      "14 - 에스퍼\n",
      "15 - 전기\n",
      "16 - 페어리\n",
      "17 - 풀\n"
     ]
    }
   ],
   "source": [
    "# ㅎㅎ 개고생했네 ㅎㅎㅎㅎ^^;\n",
    "for num,key in enumerate(encoder.classes_):\n",
    "    print('{} - {}'.format(num, key))"
   ]
  },
  {
   "cell_type": "code",
   "execution_count": 7,
   "metadata": {},
   "outputs": [
    {
     "data": {
      "text/plain": [
       "array([ 0,  1,  2,  3,  4,  5,  6,  7,  8,  9, 10, 11, 12, 13, 14, 15, 16,\n",
       "       17])"
      ]
     },
     "execution_count": 7,
     "metadata": {},
     "output_type": "execute_result"
    }
   ],
   "source": [
    "import numpy as np\n",
    "sample_shuffle=np.arange(len(pokemons_types))\n",
    "sample_shuffle"
   ]
  },
  {
   "cell_type": "code",
   "execution_count": 8,
   "metadata": {},
   "outputs": [
    {
     "name": "stdout",
     "output_type": "stream",
     "text": [
      "sample_shuffle\n",
      " [ 7  5  6 13 17  0 15 11 10  1 14  2 16  4  9  8  3 12]\n",
      "\n",
      "디코딩 원본값:  ['물' '드래곤' '땅' '얼음' '풀' '강철' '전기' '비행' '불' '격투' '에스퍼' '고스트' '페어리' '독' '벌레'\n",
      " '바위' '노멀' '악']\n"
     ]
    },
    {
     "name": "stderr",
     "output_type": "stream",
     "text": [
      "C:\\Users\\USER\\Anaconda3\\lib\\site-packages\\sklearn\\preprocessing\\label.py:151: DeprecationWarning: The truth value of an empty array is ambiguous. Returning False, but in future this will result in an error. Use `array.size > 0` to check that an array is not empty.\n",
      "  if diff:\n"
     ]
    }
   ],
   "source": [
    "np.random.shuffle(sample_shuffle)\n",
    "print('sample_shuffle\\n',sample_shuffle)\n",
    "print('\\n디코딩 원본값: ', encoder.inverse_transform(sample_shuffle))"
   ]
  },
  {
   "cell_type": "markdown",
   "metadata": {},
   "source": [
    "# OneHotEncoding"
   ]
  },
  {
   "cell_type": "code",
   "execution_count": 9,
   "metadata": {},
   "outputs": [
    {
     "name": "stdout",
     "output_type": "stream",
     "text": [
      "labels:  [0 1 4 5 3 3 2 2]\n",
      "One-Hot-Encoding Data\n",
      "[[1. 0. 0. 0. 0. 0.]\n",
      " [0. 1. 0. 0. 0. 0.]\n",
      " [0. 0. 0. 0. 1. 0.]\n",
      " [0. 0. 0. 0. 0. 1.]\n",
      " [0. 0. 0. 1. 0. 0.]\n",
      " [0. 0. 0. 1. 0. 0.]\n",
      " [0. 0. 1. 0. 0. 0.]\n",
      " [0. 0. 1. 0. 0. 0.]]\n",
      "\n",
      "\n",
      "One-Hot-Encoding data. shape:  (8, 6)\n"
     ]
    }
   ],
   "source": [
    "from sklearn.preprocessing import OneHotEncoder\n",
    "import numpy as np\n",
    "\n",
    "items= ['TV', '냉장고', '전자레인지', '컴퓨터', '선풍기','선풍기', '믹서', '믹서']\n",
    "\n",
    "# 먼저 숫자값으로 변환을 위해 LabelEncoder로 변환합니다.\n",
    "encoder=LabelEncoder()\n",
    "encoder.fit(items)\n",
    "labels= encoder.transform(items)\n",
    "print('labels: ',labels) \n",
    "\n",
    "# 2차원 데이터로 변환합니다.\n",
    "labels = labels.reshape(-1,1)\n",
    "\n",
    "# 원핫인코딩을 적용합니다.\n",
    "oh_encoder= OneHotEncoder()\n",
    "oh_encoder.fit(labels)\n",
    "oh_labels= oh_encoder.transform(labels)\n",
    "print('One-Hot-Encoding Data')\n",
    "print(oh_labels.toarray())\n",
    "print('\\n\\nOne-Hot-Encoding data. shape: ', oh_labels.shape)"
   ]
  },
  {
   "cell_type": "code",
   "execution_count": 10,
   "metadata": {},
   "outputs": [
    {
     "data": {
      "text/html": [
       "<div>\n",
       "<style scoped>\n",
       "    .dataframe tbody tr th:only-of-type {\n",
       "        vertical-align: middle;\n",
       "    }\n",
       "\n",
       "    .dataframe tbody tr th {\n",
       "        vertical-align: top;\n",
       "    }\n",
       "\n",
       "    .dataframe thead th {\n",
       "        text-align: right;\n",
       "    }\n",
       "</style>\n",
       "<table border=\"1\" class=\"dataframe\">\n",
       "  <thead>\n",
       "    <tr style=\"text-align: right;\">\n",
       "      <th></th>\n",
       "      <th>item_TV</th>\n",
       "      <th>item_냉장고</th>\n",
       "      <th>item_믹서</th>\n",
       "      <th>item_선풍기</th>\n",
       "      <th>item_전자레인지</th>\n",
       "      <th>item_컴퓨터</th>\n",
       "    </tr>\n",
       "  </thead>\n",
       "  <tbody>\n",
       "    <tr>\n",
       "      <th>0</th>\n",
       "      <td>1</td>\n",
       "      <td>0</td>\n",
       "      <td>0</td>\n",
       "      <td>0</td>\n",
       "      <td>0</td>\n",
       "      <td>0</td>\n",
       "    </tr>\n",
       "    <tr>\n",
       "      <th>1</th>\n",
       "      <td>0</td>\n",
       "      <td>1</td>\n",
       "      <td>0</td>\n",
       "      <td>0</td>\n",
       "      <td>0</td>\n",
       "      <td>0</td>\n",
       "    </tr>\n",
       "    <tr>\n",
       "      <th>2</th>\n",
       "      <td>0</td>\n",
       "      <td>0</td>\n",
       "      <td>0</td>\n",
       "      <td>0</td>\n",
       "      <td>1</td>\n",
       "      <td>0</td>\n",
       "    </tr>\n",
       "    <tr>\n",
       "      <th>3</th>\n",
       "      <td>0</td>\n",
       "      <td>0</td>\n",
       "      <td>0</td>\n",
       "      <td>0</td>\n",
       "      <td>0</td>\n",
       "      <td>1</td>\n",
       "    </tr>\n",
       "    <tr>\n",
       "      <th>4</th>\n",
       "      <td>0</td>\n",
       "      <td>0</td>\n",
       "      <td>0</td>\n",
       "      <td>1</td>\n",
       "      <td>0</td>\n",
       "      <td>0</td>\n",
       "    </tr>\n",
       "    <tr>\n",
       "      <th>5</th>\n",
       "      <td>0</td>\n",
       "      <td>0</td>\n",
       "      <td>0</td>\n",
       "      <td>1</td>\n",
       "      <td>0</td>\n",
       "      <td>0</td>\n",
       "    </tr>\n",
       "    <tr>\n",
       "      <th>6</th>\n",
       "      <td>0</td>\n",
       "      <td>0</td>\n",
       "      <td>1</td>\n",
       "      <td>0</td>\n",
       "      <td>0</td>\n",
       "      <td>0</td>\n",
       "    </tr>\n",
       "    <tr>\n",
       "      <th>7</th>\n",
       "      <td>0</td>\n",
       "      <td>0</td>\n",
       "      <td>1</td>\n",
       "      <td>0</td>\n",
       "      <td>0</td>\n",
       "      <td>0</td>\n",
       "    </tr>\n",
       "  </tbody>\n",
       "</table>\n",
       "</div>"
      ],
      "text/plain": [
       "   item_TV  item_냉장고  item_믹서  item_선풍기  item_전자레인지  item_컴퓨터\n",
       "0        1         0        0         0           0         0\n",
       "1        0         1        0         0           0         0\n",
       "2        0         0        0         0           1         0\n",
       "3        0         0        0         0           0         1\n",
       "4        0         0        0         1           0         0\n",
       "5        0         0        0         1           0         0\n",
       "6        0         0        1         0           0         0\n",
       "7        0         0        1         0           0         0"
      ]
     },
     "execution_count": 10,
     "metadata": {},
     "output_type": "execute_result"
    }
   ],
   "source": [
    "import pandas as pd\n",
    "\n",
    "df= pd.DataFrame({'item':items})\n",
    "pd.get_dummies(df)"
   ]
  },
  {
   "cell_type": "markdown",
   "metadata": {},
   "source": [
    "# StandardScaler"
   ]
  },
  {
   "cell_type": "markdown",
   "metadata": {},
   "source": [
    "표준화를 쉽게 지원하기 위한 클래스이다.\n",
    "\n",
    "즉, 개별 피처를 편듄이 0이고, 분산이 1인 값으로 변환 (가우시안 정규분포를 가질 수 있도록 데이터를 변환)\n",
    "\n",
    "Support Vector Machine, Linear Regression, Logistic Regression 데이터가 \n",
    "\n",
    "가우시안 분포를 가지고 있다고 가정하고 구현됐기 때문에\n",
    "\n",
    "사전에 표준화를 적용하는 것은 예측 성능 향상에 중요한 요소가 될 수 있다."
   ]
  },
  {
   "cell_type": "code",
   "execution_count": 11,
   "metadata": {},
   "outputs": [
    {
     "name": "stdout",
     "output_type": "stream",
     "text": [
      "feature들의 평균값:  sepal length (cm)    5.843333\n",
      "sepal width (cm)     3.054000\n",
      "petal length (cm)    3.758667\n",
      "petal width (cm)     1.198667\n",
      "dtype: float64\n",
      "\n",
      "feature들의 분산값:  sepal length (cm)    0.685694\n",
      "sepal width (cm)     0.188004\n",
      "petal length (cm)    3.113179\n",
      "petal width (cm)     0.582414\n",
      "dtype: float64\n"
     ]
    }
   ],
   "source": [
    "from sklearn.datasets import load_iris\n",
    "import pandas as pd\n",
    "\n",
    "# 붓꽃 데이터 세트를 로딩하고 DataFrame으로 변환\n",
    "iris = load_iris()\n",
    "iris_data = iris.data\n",
    "iris_df = pd.DataFrame( data=iris_data, columns=iris.feature_names)\n",
    "\n",
    "print('feature들의 평균값: ', iris_df.mean())\n",
    "print('\\nfeature들의 분산값: ', iris_df.var())"
   ]
  },
  {
   "cell_type": "code",
   "execution_count": 12,
   "metadata": {
    "scrolled": true
   },
   "outputs": [
    {
     "name": "stdout",
     "output_type": "stream",
     "text": [
      "feature 들의 평균값:  sepal length (cm)   -1.690315e-15\n",
      "sepal width (cm)    -1.637024e-15\n",
      "petal length (cm)   -1.482518e-15\n",
      "petal width (cm)    -1.623146e-15\n",
      "dtype: float64\n",
      "\n",
      "feature들의 분산값:  sepal length (cm)    1.006711\n",
      "sepal width (cm)     1.006711\n",
      "petal length (cm)    1.006711\n",
      "petal width (cm)     1.006711\n",
      "dtype: float64\n"
     ]
    }
   ],
   "source": [
    "from sklearn.preprocessing import StandardScaler\n",
    "\n",
    "# StandardScaler 객체 생성\n",
    "scaler = StandardScaler()\n",
    "\n",
    "# StandardScaler 로 데이터 세트 변환 fit()과 transform() 호출\n",
    "scaler.fit(iris_df)\n",
    "iris_scaled = scaler.transform(iris_df)\n",
    "\n",
    "# transform() 시 스케일 변환된 데이터 세트가\n",
    "# Numpy ndarray로 반환돼 이를 DataFrame으로 변환\n",
    "iris_df_scaled = pd.DataFrame( data=iris_scaled, columns=iris.feature_names)\n",
    "print('feature 들의 평균값: ', iris_df_scaled.mean())\n",
    "print('\\nfeature들의 분산값: ', iris_df_scaled.var())"
   ]
  },
  {
   "cell_type": "markdown",
   "metadata": {},
   "source": [
    "# MinMaxScaler"
   ]
  },
  {
   "cell_type": "code",
   "execution_count": 13,
   "metadata": {},
   "outputs": [
    {
     "name": "stdout",
     "output_type": "stream",
     "text": [
      "feature 들의 최솟값:  sepal length (cm)    0.0\n",
      "sepal width (cm)     0.0\n",
      "petal length (cm)    0.0\n",
      "petal width (cm)     0.0\n",
      "dtype: float64\n",
      "\n",
      "feature들의 최댓값:  sepal length (cm)    1.0\n",
      "sepal width (cm)     1.0\n",
      "petal length (cm)    1.0\n",
      "petal width (cm)     1.0\n",
      "dtype: float64\n"
     ]
    }
   ],
   "source": [
    "from sklearn.preprocessing import MinMaxScaler\n",
    "\n",
    "# MinMaxScaler 객체 생성\n",
    "scaler = MinMaxScaler()\n",
    "\n",
    "# MinMaxScaler로 데이터세트 변환 fit()과 transform() 호출\n",
    "scaler.fit(iris_df)\n",
    "iris_scaled = scaler.transform(iris_df)\n",
    "\n",
    "# transform() 시 스케일 변환된 데이터세트가 Numpy ndarray로 반환돼\n",
    "# 이를 DataFrame으로 변환\n",
    "\n",
    "iris_df_scaled = pd.DataFrame(data=iris_scaled, columns=iris.feature_names)\n",
    "\n",
    "print('feature 들의 최솟값: ', iris_df_scaled.min())\n",
    "print('\\nfeature들의 최댓값: ', iris_df_scaled.max())"
   ]
  },
  {
   "cell_type": "markdown",
   "metadata": {},
   "source": [
    "# kaggle - Titanic"
   ]
  },
  {
   "cell_type": "code",
   "execution_count": 14,
   "metadata": {
    "scrolled": true
   },
   "outputs": [
    {
     "data": {
      "text/html": [
       "<div>\n",
       "<style scoped>\n",
       "    .dataframe tbody tr th:only-of-type {\n",
       "        vertical-align: middle;\n",
       "    }\n",
       "\n",
       "    .dataframe tbody tr th {\n",
       "        vertical-align: top;\n",
       "    }\n",
       "\n",
       "    .dataframe thead th {\n",
       "        text-align: right;\n",
       "    }\n",
       "</style>\n",
       "<table border=\"1\" class=\"dataframe\">\n",
       "  <thead>\n",
       "    <tr style=\"text-align: right;\">\n",
       "      <th></th>\n",
       "      <th>PassengerId</th>\n",
       "      <th>Survived</th>\n",
       "      <th>Pclass</th>\n",
       "      <th>Name</th>\n",
       "      <th>Sex</th>\n",
       "      <th>Age</th>\n",
       "      <th>SibSp</th>\n",
       "      <th>Parch</th>\n",
       "      <th>Ticket</th>\n",
       "      <th>Fare</th>\n",
       "      <th>Cabin</th>\n",
       "      <th>Embarked</th>\n",
       "    </tr>\n",
       "  </thead>\n",
       "  <tbody>\n",
       "    <tr>\n",
       "      <th>0</th>\n",
       "      <td>1</td>\n",
       "      <td>0</td>\n",
       "      <td>3</td>\n",
       "      <td>Braund, Mr. Owen Harris</td>\n",
       "      <td>male</td>\n",
       "      <td>22.0</td>\n",
       "      <td>1</td>\n",
       "      <td>0</td>\n",
       "      <td>A/5 21171</td>\n",
       "      <td>7.2500</td>\n",
       "      <td>NaN</td>\n",
       "      <td>S</td>\n",
       "    </tr>\n",
       "    <tr>\n",
       "      <th>1</th>\n",
       "      <td>2</td>\n",
       "      <td>1</td>\n",
       "      <td>1</td>\n",
       "      <td>Cumings, Mrs. John Bradley (Florence Briggs Th...</td>\n",
       "      <td>female</td>\n",
       "      <td>38.0</td>\n",
       "      <td>1</td>\n",
       "      <td>0</td>\n",
       "      <td>PC 17599</td>\n",
       "      <td>71.2833</td>\n",
       "      <td>C85</td>\n",
       "      <td>C</td>\n",
       "    </tr>\n",
       "    <tr>\n",
       "      <th>2</th>\n",
       "      <td>3</td>\n",
       "      <td>1</td>\n",
       "      <td>3</td>\n",
       "      <td>Heikkinen, Miss. Laina</td>\n",
       "      <td>female</td>\n",
       "      <td>26.0</td>\n",
       "      <td>0</td>\n",
       "      <td>0</td>\n",
       "      <td>STON/O2. 3101282</td>\n",
       "      <td>7.9250</td>\n",
       "      <td>NaN</td>\n",
       "      <td>S</td>\n",
       "    </tr>\n",
       "  </tbody>\n",
       "</table>\n",
       "</div>"
      ],
      "text/plain": [
       "   PassengerId  Survived  Pclass  \\\n",
       "0            1         0       3   \n",
       "1            2         1       1   \n",
       "2            3         1       3   \n",
       "\n",
       "                                                Name     Sex   Age  SibSp  \\\n",
       "0                            Braund, Mr. Owen Harris    male  22.0      1   \n",
       "1  Cumings, Mrs. John Bradley (Florence Briggs Th...  female  38.0      1   \n",
       "2                             Heikkinen, Miss. Laina  female  26.0      0   \n",
       "\n",
       "   Parch            Ticket     Fare Cabin Embarked  \n",
       "0      0         A/5 21171   7.2500   NaN        S  \n",
       "1      0          PC 17599  71.2833   C85        C  \n",
       "2      0  STON/O2. 3101282   7.9250   NaN        S  "
      ]
     },
     "execution_count": 14,
     "metadata": {},
     "output_type": "execute_result"
    }
   ],
   "source": [
    "import numpy as np\n",
    "import pandas as pd\n",
    "import matplotlib.pyplot as plt\n",
    "import seaborn as sns\n",
    "%matplotlib inline\n",
    "\n",
    "titanic_df = pd.read_csv('./titanic_example/dataset/train.csv')\n",
    "titanic_df.head(3)"
   ]
  },
  {
   "cell_type": "code",
   "execution_count": 15,
   "metadata": {
    "scrolled": true
   },
   "outputs": [
    {
     "name": "stdout",
     "output_type": "stream",
     "text": [
      "\n",
      "### 학습 데이터 정보 ###\n",
      "\n",
      "<class 'pandas.core.frame.DataFrame'>\n",
      "RangeIndex: 891 entries, 0 to 890\n",
      "Data columns (total 12 columns):\n",
      "PassengerId    891 non-null int64\n",
      "Survived       891 non-null int64\n",
      "Pclass         891 non-null int64\n",
      "Name           891 non-null object\n",
      "Sex            891 non-null object\n",
      "Age            714 non-null float64\n",
      "SibSp          891 non-null int64\n",
      "Parch          891 non-null int64\n",
      "Ticket         891 non-null object\n",
      "Fare           891 non-null float64\n",
      "Cabin          204 non-null object\n",
      "Embarked       889 non-null object\n",
      "dtypes: float64(2), int64(5), object(5)\n",
      "memory usage: 83.6+ KB\n",
      "None\n"
     ]
    }
   ],
   "source": [
    "print('\\n### 학습 데이터 정보 ###\\n')\n",
    "print(titanic_df.info())"
   ]
  },
  {
   "cell_type": "code",
   "execution_count": 16,
   "metadata": {},
   "outputs": [
    {
     "name": "stdout",
     "output_type": "stream",
     "text": [
      "데이터 세트 NULL 값의 개수 0\n"
     ]
    }
   ],
   "source": [
    "# NULL값을 갖는 컬럼을 위주로...\n",
    "# NULL대신 다른값으로 채운다.\n",
    "titanic_df['Age'].fillna(titanic_df['Age'].mean(), inplace=True) #나이의 평균값으로.. 채운다.\n",
    "\n",
    "titanic_df['Cabin'].fillna('N', inplace=True) # N으로 대신 채운다.\n",
    "\n",
    "titanic_df['Embarked'].fillna('N', inplace=True) # N으로 대신 채운다.\n",
    "\n",
    "print('데이터 세트 NULL 값의 개수', titanic_df.isnull().sum().sum()) # 이제 데이터셋에 있는 널값이 존재하지 않는다."
   ]
  },
  {
   "cell_type": "code",
   "execution_count": 17,
   "metadata": {},
   "outputs": [
    {
     "name": "stdout",
     "output_type": "stream",
     "text": [
      " Sex값 분포: \n",
      " male      577\n",
      "female    314\n",
      "Name: Sex, dtype: int64\n",
      "\n",
      " Cabin값의 분포: \n",
      " N                  687\n",
      "C23 C25 C27          4\n",
      "G6                   4\n",
      "B96 B98              4\n",
      "D                    3\n",
      "F33                  3\n",
      "E101                 3\n",
      "F2                   3\n",
      "C22 C26              3\n",
      "E25                  2\n",
      "C68                  2\n",
      "D35                  2\n",
      "F4                   2\n",
      "B35                  2\n",
      "C126                 2\n",
      "B20                  2\n",
      "C92                  2\n",
      "D33                  2\n",
      "C65                  2\n",
      "E8                   2\n",
      "B18                  2\n",
      "E44                  2\n",
      "C2                   2\n",
      "C52                  2\n",
      "D26                  2\n",
      "E24                  2\n",
      "D17                  2\n",
      "B58 B60              2\n",
      "C125                 2\n",
      "B57 B59 B63 B66      2\n",
      "                  ... \n",
      "C54                  1\n",
      "C111                 1\n",
      "A32                  1\n",
      "C106                 1\n",
      "A10                  1\n",
      "C70                  1\n",
      "C91                  1\n",
      "B79                  1\n",
      "E63                  1\n",
      "D11                  1\n",
      "E31                  1\n",
      "E77                  1\n",
      "E12                  1\n",
      "D9                   1\n",
      "C148                 1\n",
      "C49                  1\n",
      "D45                  1\n",
      "C30                  1\n",
      "D10 D12              1\n",
      "C7                   1\n",
      "C90                  1\n",
      "C82                  1\n",
      "C87                  1\n",
      "B82 B84              1\n",
      "B94                  1\n",
      "C99                  1\n",
      "C104                 1\n",
      "D19                  1\n",
      "B38                  1\n",
      "E36                  1\n",
      "Name: Cabin, Length: 148, dtype: int64\n",
      "\n",
      " Embarked값의 분포: \n",
      " S    644\n",
      "C    168\n",
      "Q     77\n",
      "N      2\n",
      "Name: Embarked, dtype: int64\n"
     ]
    }
   ],
   "source": [
    "print(' Sex값 분포: \\n', titanic_df['Sex'].value_counts())\n",
    "\n",
    "print('\\n Cabin값의 분포: \\n', titanic_df['Cabin'].value_counts()) # C25, C32같은 첫번째 알파벳에 따라 묶을 필요가 있다.\n",
    "\n",
    "print('\\n Embarked값의 분포: \\n', titanic_df['Embarked'].value_counts()) "
   ]
  },
  {
   "cell_type": "code",
   "execution_count": 18,
   "metadata": {},
   "outputs": [
    {
     "name": "stdout",
     "output_type": "stream",
     "text": [
      "0    N\n",
      "1    C\n",
      "2    N\n",
      "Name: Cabin, dtype: object\n",
      "\n",
      "\n",
      " N    687\n",
      "C     59\n",
      "B     47\n",
      "D     33\n",
      "E     32\n",
      "A     15\n",
      "F     13\n",
      "G      4\n",
      "T      1\n",
      "Name: Cabin, dtype: int64\n"
     ]
    }
   ],
   "source": [
    "# Cabin 컬럼의 데이터중 맨앞문자를 추출\n",
    "titanic_df['Cabin']= titanic_df['Cabin'].str[:1]\n",
    "print(titanic_df['Cabin'].head(3))\n",
    "\n",
    "print('\\n\\n',titanic_df['Cabin'].value_counts())"
   ]
  },
  {
   "cell_type": "markdown",
   "metadata": {},
   "source": [
    "예측을 수행하기 전에 데이터를 먼저 탐색.\n",
    "\n",
    "어떤 유형의 승객이 생존확률이 높았는지를 확인.\n",
    "\n",
    "성별이 생존확률에 어떤 영향을 미쳤는지 성별에 따른 생존자 수를 비교."
   ]
  },
  {
   "cell_type": "code",
   "execution_count": 19,
   "metadata": {},
   "outputs": [
    {
     "data": {
      "text/plain": [
       "Sex     Survived\n",
       "female  0            81\n",
       "        1           233\n",
       "male    0           468\n",
       "        1           109\n",
       "Name: Survived, dtype: int64"
      ]
     },
     "execution_count": 19,
     "metadata": {},
     "output_type": "execute_result"
    }
   ],
   "source": [
    "titanic_df.groupby(['Sex', 'Survived'])['Survived'].count()"
   ]
  },
  {
   "cell_type": "code",
   "execution_count": 20,
   "metadata": {},
   "outputs": [
    {
     "name": "stderr",
     "output_type": "stream",
     "text": [
      "C:\\Users\\USER\\Anaconda3\\lib\\site-packages\\scipy\\stats\\stats.py:1713: FutureWarning: Using a non-tuple sequence for multidimensional indexing is deprecated; use `arr[tuple(seq)]` instead of `arr[seq]`. In the future this will be interpreted as an array index, `arr[np.array(seq)]`, which will result either in an error or a different result.\n",
      "  return np.add.reduce(sorted[indexer] * weights, axis=axis) / sumval\n"
     ]
    },
    {
     "data": {
      "text/plain": [
       "<matplotlib.axes._subplots.AxesSubplot at 0x210dfa08710>"
      ]
     },
     "execution_count": 20,
     "metadata": {},
     "output_type": "execute_result"
    },
    {
     "data": {
      "image/png": "[encoded data removed]",
      "text/plain": [
       "<Figure size 432x288 with 1 Axes>"
      ]
     },
     "metadata": {
      "needs_background": "light"
     },
     "output_type": "display_data"
    }
   ],
   "source": [
    "sns.barplot( x='Sex', y='Survived', data=titanic_df)"
   ]
  },
  {
   "cell_type": "markdown",
   "metadata": {},
   "source": [
    "부자와 가난한 사람간의 생존확률은?\n",
    "\n",
    "부를 측정할 수 있는 속성은 => 객실 등급 => 객실등급별로 생존확률보다 객실등급별 성별을 고려해서 분석\n",
    "\n",
    "\n",
    "객실 등급별 성별에 따른 생존확률 표현."
   ]
  },
  {
   "cell_type": "code",
   "execution_count": 21,
   "metadata": {},
   "outputs": [
    {
     "data": {
      "text/plain": [
       "<matplotlib.axes._subplots.AxesSubplot at 0x210e0d58e10>"
      ]
     },
     "execution_count": 21,
     "metadata": {},
     "output_type": "execute_result"
    },
    {
     "data": {
      "image/png": "[encoded data removed]",
      "text/plain": [
       "<Figure size 432x288 with 1 Axes>"
      ]
     },
     "metadata": {
      "needs_background": "light"
     },
     "output_type": "display_data"
    }
   ],
   "source": [
    "sns.barplot( x='Pclass', y='Survived', hue='Sex', data=titanic_df)"
   ]
  },
  {
   "cell_type": "markdown",
   "metadata": {},
   "source": [
    "3등실은 가난. 1등실은 부자..\n",
    "\n",
    "Age에 따른 생존 확률을 알아본다.\n",
    "\n",
    "- 0~5세 : Baby\n",
    "- 6~12세 : Child\n",
    "- 13~18세 : Teenager\n",
    "- 19~25세 : Student\n",
    "- 26~35세 : Young-Adult\n",
    "- 36~60세 : Adult\n",
    "- 61세 이상: Elderly\n"
   ]
  },
  {
   "cell_type": "code",
   "execution_count": 22,
   "metadata": {},
   "outputs": [
    {
     "data": {
      "image/png": "[encoded data removed]",
      "text/plain": [
       "<Figure size 720x432 with 1 Axes>"
      ]
     },
     "metadata": {
      "needs_background": "light"
     },
     "output_type": "display_data"
    }
   ],
   "source": [
    "def get_category(age):\n",
    "    cat=''\n",
    "    if age<=-1: \n",
    "        cat='Unknown'\n",
    "    elif age<=5:\n",
    "        cat='Baby'\n",
    "    elif age<=12:\n",
    "        cat='Child'\n",
    "    elif age<=18:\n",
    "        cat='Teenager'\n",
    "    elif age<=25:\n",
    "        cat='Student'\n",
    "    elif age<=35:\n",
    "        cat='Young-Adult'\n",
    "    elif age<=60:\n",
    "        cat='Adult'\n",
    "    else:\n",
    "        cat='Elderly'\n",
    "        \n",
    "    return cat\n",
    "\n",
    "\n",
    "# 막대 그래프의 크기 figure를 더 크게 설정\n",
    "plt.figure(figsize=(10,6))\n",
    "\n",
    "# X축의 값을 순차적으로 표시하기 위한 설정\n",
    "group_names= ['Unknown', 'Baby', 'Child', 'Teenager', 'Student', 'Young-Adult', 'Adult', 'Elderly']\n",
    "\n",
    "# lambda 식에 위에서 생성한 get_category() 함수를 반환값으로 지정\n",
    "# get_category(X)는 입력값으로 'Age' 칼럼 값을 받아서 해당하는 cat반환\n",
    "titanic_df['Age_cat']= titanic_df['Age'].apply(lambda x: get_category(x))\n",
    "\n",
    "sns.barplot(x='Age_cat', y='Survived', hue='Sex', data=titanic_df, order=group_names)\n",
    "titanic_df.drop('Age_cat', axis=1, inplace=True)"
   ]
  },
  {
   "cell_type": "code",
   "execution_count": 23,
   "metadata": {},
   "outputs": [
    {
     "data": {
      "text/html": [
       "<div>\n",
       "<style scoped>\n",
       "    .dataframe tbody tr th:only-of-type {\n",
       "        vertical-align: middle;\n",
       "    }\n",
       "\n",
       "    .dataframe tbody tr th {\n",
       "        vertical-align: top;\n",
       "    }\n",
       "\n",
       "    .dataframe thead th {\n",
       "        text-align: right;\n",
       "    }\n",
       "</style>\n",
       "<table border=\"1\" class=\"dataframe\">\n",
       "  <thead>\n",
       "    <tr style=\"text-align: right;\">\n",
       "      <th></th>\n",
       "      <th>PassengerId</th>\n",
       "      <th>Survived</th>\n",
       "      <th>Pclass</th>\n",
       "      <th>Name</th>\n",
       "      <th>Sex</th>\n",
       "      <th>Age</th>\n",
       "      <th>SibSp</th>\n",
       "      <th>Parch</th>\n",
       "      <th>Ticket</th>\n",
       "      <th>Fare</th>\n",
       "      <th>Cabin</th>\n",
       "      <th>Embarked</th>\n",
       "    </tr>\n",
       "  </thead>\n",
       "  <tbody>\n",
       "    <tr>\n",
       "      <th>0</th>\n",
       "      <td>1</td>\n",
       "      <td>0</td>\n",
       "      <td>3</td>\n",
       "      <td>Braund, Mr. Owen Harris</td>\n",
       "      <td>1</td>\n",
       "      <td>22.0</td>\n",
       "      <td>1</td>\n",
       "      <td>0</td>\n",
       "      <td>A/5 21171</td>\n",
       "      <td>7.2500</td>\n",
       "      <td>7</td>\n",
       "      <td>3</td>\n",
       "    </tr>\n",
       "    <tr>\n",
       "      <th>1</th>\n",
       "      <td>2</td>\n",
       "      <td>1</td>\n",
       "      <td>1</td>\n",
       "      <td>Cumings, Mrs. John Bradley (Florence Briggs Th...</td>\n",
       "      <td>0</td>\n",
       "      <td>38.0</td>\n",
       "      <td>1</td>\n",
       "      <td>0</td>\n",
       "      <td>PC 17599</td>\n",
       "      <td>71.2833</td>\n",
       "      <td>2</td>\n",
       "      <td>0</td>\n",
       "    </tr>\n",
       "    <tr>\n",
       "      <th>2</th>\n",
       "      <td>3</td>\n",
       "      <td>1</td>\n",
       "      <td>3</td>\n",
       "      <td>Heikkinen, Miss. Laina</td>\n",
       "      <td>0</td>\n",
       "      <td>26.0</td>\n",
       "      <td>0</td>\n",
       "      <td>0</td>\n",
       "      <td>STON/O2. 3101282</td>\n",
       "      <td>7.9250</td>\n",
       "      <td>7</td>\n",
       "      <td>3</td>\n",
       "    </tr>\n",
       "    <tr>\n",
       "      <th>3</th>\n",
       "      <td>4</td>\n",
       "      <td>1</td>\n",
       "      <td>1</td>\n",
       "      <td>Futrelle, Mrs. Jacques Heath (Lily May Peel)</td>\n",
       "      <td>0</td>\n",
       "      <td>35.0</td>\n",
       "      <td>1</td>\n",
       "      <td>0</td>\n",
       "      <td>113803</td>\n",
       "      <td>53.1000</td>\n",
       "      <td>2</td>\n",
       "      <td>3</td>\n",
       "    </tr>\n",
       "    <tr>\n",
       "      <th>4</th>\n",
       "      <td>5</td>\n",
       "      <td>0</td>\n",
       "      <td>3</td>\n",
       "      <td>Allen, Mr. William Henry</td>\n",
       "      <td>1</td>\n",
       "      <td>35.0</td>\n",
       "      <td>0</td>\n",
       "      <td>0</td>\n",
       "      <td>373450</td>\n",
       "      <td>8.0500</td>\n",
       "      <td>7</td>\n",
       "      <td>3</td>\n",
       "    </tr>\n",
       "  </tbody>\n",
       "</table>\n",
       "</div>"
      ],
      "text/plain": [
       "   PassengerId  Survived  Pclass  \\\n",
       "0            1         0       3   \n",
       "1            2         1       1   \n",
       "2            3         1       3   \n",
       "3            4         1       1   \n",
       "4            5         0       3   \n",
       "\n",
       "                                                Name  Sex   Age  SibSp  Parch  \\\n",
       "0                            Braund, Mr. Owen Harris    1  22.0      1      0   \n",
       "1  Cumings, Mrs. John Bradley (Florence Briggs Th...    0  38.0      1      0   \n",
       "2                             Heikkinen, Miss. Laina    0  26.0      0      0   \n",
       "3       Futrelle, Mrs. Jacques Heath (Lily May Peel)    0  35.0      1      0   \n",
       "4                           Allen, Mr. William Henry    1  35.0      0      0   \n",
       "\n",
       "             Ticket     Fare  Cabin  Embarked  \n",
       "0         A/5 21171   7.2500      7         3  \n",
       "1          PC 17599  71.2833      2         0  \n",
       "2  STON/O2. 3101282   7.9250      7         3  \n",
       "3            113803  53.1000      2         3  \n",
       "4            373450   8.0500      7         3  "
      ]
     },
     "execution_count": 23,
     "metadata": {},
     "output_type": "execute_result"
    }
   ],
   "source": [
    "from sklearn import preprocessing\n",
    "\n",
    "def encode_features(dataDF):\n",
    "    features = ['Cabin', 'Sex', 'Embarked']\n",
    "    for feature in features:\n",
    "        le = preprocessing.LabelEncoder()\n",
    "        le = le.fit(dataDF[feature])\n",
    "        dataDF[feature]=le.transform(dataDF[feature])\n",
    "        \n",
    "    return dataDF\n",
    "\n",
    "titanic_df = encode_features(titanic_df)\n",
    "titanic_df.head(5)"
   ]
  },
  {
   "cell_type": "markdown",
   "metadata": {},
   "source": [
    "데이터 전처리를 전체적으로 호출하는 함수는 transform_features()\n",
    "\n",
    "Null처리 , 포매팅, 인코딩을 수행하며 내부함수를 구성"
   ]
  },
  {
   "cell_type": "code",
   "execution_count": 25,
   "metadata": {},
   "outputs": [],
   "source": [
    "# NULL 처리 함수\n",
    "def fillna(df):\n",
    "    df['Age'].fillna(df['Age'].mean(), inplace=True)\n",
    "    df['Cabin'].fillna('N', inplace=True)\n",
    "    df['Embarked'].fillna('N', inplace=True)\n",
    "    df['Fare'].fillna(0, inplace=True)\n",
    "    return df\n",
    "\n",
    "# 머신러닝 알고리즘에 불필요한 속성 제거\n",
    "def drop_features(df):\n",
    "    # 컬럼구분자와 이름 티켓을 제거\n",
    "    df.drop(['PassengerId', 'Name', 'Ticket'], axis=1, inplace=True)\n",
    "    return df\n",
    "\n",
    "\n",
    "# 레이블 인코딩 수행\n",
    "def format_features(df):\n",
    "    df['Cabin']= df['Cabin'].str[:1]\n",
    "    features=['Cabin', 'Sex', 'Embarked']\n",
    "    for feature in features:\n",
    "        le = LabelEncoder()\n",
    "        le = le.fit(df[feature])\n",
    "        df[feature]= le.transform(df[feature])\n",
    "    \n",
    "    return df\n",
    "\n",
    "\n",
    "# 앞에서 설정한 데이터 전처리 함수 호출\n",
    "def transform_features(df):\n",
    "    df=fillna(df)\n",
    "    df=drop_features(df)\n",
    "    df=format_features(df)\n",
    "    return df\n"
   ]
  },
  {
   "cell_type": "code",
   "execution_count": 26,
   "metadata": {},
   "outputs": [],
   "source": [
    "#원본데이터를 재로딩하고, 피처데이터세트와 레이블데이터 세트 추출\n",
    "titanic_df = pd.read_csv('./titanic_example/dataset/train.csv')\n",
    "y_titanic_df= titanic_df['Survived']\n",
    "X_titanic_df= titanic_df.drop('Survived', axis=1)\n",
    "X_titanic_df= transform_features(X_titanic_df) #데이터를 가공한다."
   ]
  },
  {
   "cell_type": "code",
   "execution_count": 27,
   "metadata": {},
   "outputs": [],
   "source": [
    "from sklearn.model_selection import train_test_split\n",
    "X_train, X_test, y_train, y_test = train_test_split(X_titanic_df, \n",
    "                                                    y_titanic_df, \n",
    "                                                    test_size=0.2,\n",
    "                                                   random_state=11)"
   ]
  },
  {
   "cell_type": "code",
   "execution_count": 29,
   "metadata": {},
   "outputs": [
    {
     "name": "stdout",
     "output_type": "stream",
     "text": [
      "DecisionTreeClassifier 정확도: 0.7877\n",
      "DecisionTreeClassifier 정확도: 0.8324\n",
      "RandomForestClassifier 정확도: 0.8659\n"
     ]
    }
   ],
   "source": [
    "from sklearn.tree import DecisionTreeClassifier\n",
    "from sklearn.ensemble import RandomForestClassifier\n",
    "from sklearn.linear_model import LogisticRegression\n",
    "from sklearn.metrics import accuracy_score\n",
    "\n",
    "# 결정트리, Random Forest, 로지스틱 회귀를 위한 사이킷런 Classifier 클래스 생성\n",
    "dt_clf = DecisionTreeClassifier(random_state=11)\n",
    "rf_clf = RandomForestClassifier(random_state=11)\n",
    "lr_clf = LogisticRegression()\n",
    "\n",
    "# DecisionTreeClassifier 학습/예측 평가\n",
    "dt_clf.fit(X_train, y_train)\n",
    "dt_pred = dt_clf.predict(X_test)\n",
    "print('DecisionTreeClassifier 정확도: {0:.4f}'.format(accuracy_score(y_test, dt_pred)))\n",
    "\n",
    "# RandomForestClassifier 학습/예측 평가\n",
    "rf_clf.fit(X_train, y_train)\n",
    "rf_pred = rf_clf.predict(X_test)\n",
    "print('DecisionTreeClassifier 정확도: {0:.4f}'.format(accuracy_score(y_test, rf_pred)))\n",
    "\n",
    "# LogisticRegression 학습/예측 평가\n",
    "lr_clf.fit(X_train, y_train)\n",
    "lr_pred= lr_clf.predict(X_test)\n",
    "print('RandomForestClassifier 정확도: {0:.4f}'.format(accuracy_score(y_test, lr_pred)))"
   ]
  },
  {
   "cell_type": "code",
   "execution_count": 31,
   "metadata": {},
   "outputs": [
    {
     "name": "stdout",
     "output_type": "stream",
     "text": [
      "교차검증 0 - 정확도: 0.7541899441340782\n",
      "교차검증 1 - 정확도: 0.7808988764044944\n",
      "교차검증 2 - 정확도: 0.7865168539325843\n",
      "교차검증 3 - 정확도: 0.7696629213483146\n",
      "교차검증 4 - 정확도: 0.8202247191011236\n",
      "평균정확도: 0.7823\n"
     ]
    }
   ],
   "source": [
    "# 교차 검증으로 트리 모델을 좀더 평가해본다.\n",
    "# 교차 검증을 위한 사이킷런 패키지는\n",
    "# KFold 클래스\n",
    "# cross_val_score()\n",
    "# GridSearchCV 클래스\n",
    "\n",
    "from sklearn.model_selection import KFold\n",
    "\n",
    "def exec_kfold(clf, folds=5):\n",
    "    # 폴드 세트를 5개인 KFold 객체를 생성 \n",
    "    # 폴드 수만큼 예측 결과 저장을 위한 리스트 객체 생성\n",
    "    kfold = KFold(n_splits=folds)\n",
    "    scores=[]\n",
    "    \n",
    "    # kfold 교차 검증 수행\n",
    "    for iter_count, (train_index, test_index) in enumerate(kfold.split(X_titanic_df)):\n",
    "        # X_titanic_df 데이터에서 교차 검증별로 학습과 검증 데이터를 가리키는 index생성\n",
    "        X_train, X_test = X_titanic_df.values[train_index], X_titanic_df.values[test_index]\n",
    "        y_train, y_test = y_titanic_df.values[train_index], y_titanic_df.values[test_index]\n",
    "        \n",
    "        # Classifier학습, 예측 , 정확도 계산\n",
    "        clf.fit(X_train, y_train)\n",
    "        \n",
    "        predictions= clf.predict(X_test)\n",
    "        \n",
    "        accuracy= accuracy_score(y_test, predictions)\n",
    "        \n",
    "        scores.append(accuracy)\n",
    "        print('교차검증 {} - 정확도: {}'.format(iter_count, accuracy))\n",
    "        \n",
    "    #5개 fold에서 평균 정확도 계산\n",
    "    mean_score= np.mean(scores)\n",
    "    print('평균정확도: {0:.4f}'.format(mean_score))\n",
    "\n",
    "# exec_kfold 호출\n",
    "exec_kfold(dt_clf, folds=5)"
   ]
  },
  {
   "cell_type": "code",
   "execution_count": 32,
   "metadata": {},
   "outputs": [
    {
     "name": "stdout",
     "output_type": "stream",
     "text": [
      "교차검증 0 - 정확도: 0.7430\n",
      "교차검증 1 - 정확도: 0.7765\n",
      "교차검증 2 - 정확도: 0.7809\n",
      "교차검증 3 - 정확도: 0.7753\n",
      "교차검증 4 - 정확도: 0.8418\n",
      "평균정확도: 0.7835\n"
     ]
    }
   ],
   "source": [
    "# cross_val_score() api 사용\n",
    "# StratifiedKFold를 이용해서 폴드세트를 분할하기 때문이다.\n",
    "from sklearn.model_selection import cross_val_score\n",
    "\n",
    "scores = cross_val_score(dt_clf, X_titanic_df, y_titanic_df, cv=5)\n",
    "\n",
    "for iter_count, accuracy in enumerate(scores):\n",
    "    print('교차검증 {0} - 정확도: {1:.4f}'.format(iter_count, accuracy))\n",
    "    \n",
    "print('평균정확도: {0:.4f}'.format(np.mean(scores)))"
   ]
  },
  {
   "cell_type": "code",
   "execution_count": 34,
   "metadata": {},
   "outputs": [
    {
     "name": "stdout",
     "output_type": "stream",
     "text": [
      "GridSearchCV 최적 하이퍼 파라미터:  {'max_depth': 3, 'min_samples_leaf': 1}\n",
      "GridSearchCV 최고 정확도: 0.7992\n",
      "테스트 세트에서의 DecisionTreeClassifier 정확도: 0.8715\n"
     ]
    }
   ],
   "source": [
    "# GridSearchCV를 이용해서 DecisionTreeClassifier의 \n",
    "# 최적 하이퍼파라미터를 찾고, 예측 성능을 측정해본다.\n",
    "from sklearn.model_selection import GridSearchCV\n",
    "\n",
    "parameters={ 'max_depth': [2,3,5,10], \n",
    "            'min_samples_leaf':[1,5,8]}\n",
    "\n",
    "grid_dclf = GridSearchCV( dt_clf, \n",
    "                          param_grid=parameters, \n",
    "                          scoring='accuracy', cv=5)\n",
    "\n",
    "grid_dclf.fit(X_train, y_train)\n",
    "\n",
    "print('GridSearchCV 최적 하이퍼 파라미터: ', grid_dclf.best_params_)\n",
    "print('GridSearchCV 최고 정확도: {:.4f}'.format(grid_dclf.best_score_))\n",
    "best_dclf = grid_dclf.best_estimator_\n",
    "\n",
    "# GridSearchCV의 최적 하이퍼 파라미터로 학습된 Estimator로 예측 및 평가 수행\n",
    "dpredictions = best_dclf.predict(X_test)\n",
    "accuracy = accuracy_score(y_test, dpredictions)\n",
    "print('테스트 세트에서의 DecisionTreeClassifier 정확도: {:.4f}'.format(accuracy))"
   ]
  },
  {
   "cell_type": "code",
   "execution_count": null,
   "metadata": {},
   "outputs": [],
   "source": []
  }
 ],
 "metadata": {
  "kernelspec": {
   "display_name": "Python 3",
   "language": "python",
   "name": "python3"
  },
  "language_info": {
   "codemirror_mode": {
    "name": "ipython",
    "version": 3
   },
   "file_extension": ".py",
   "mimetype": "text/x-python",
   "name": "python",
   "nbconvert_exporter": "python",
   "pygments_lexer": "ipython3",
   "version": "3.7.0"
  }
 },
 "nbformat": 4,
 "nbformat_minor": 2
}
