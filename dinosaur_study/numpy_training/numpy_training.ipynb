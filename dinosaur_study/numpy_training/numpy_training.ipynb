{
 "cells": [
  {
   "cell_type": "code",
   "execution_count": 1,
   "metadata": {},
   "outputs": [],
   "source": [
    "import numpy as np"
   ]
  },
  {
   "cell_type": "code",
   "execution_count": 2,
   "metadata": {},
   "outputs": [
    {
     "name": "stdout",
     "output_type": "stream",
     "text": [
      "array1 type:  <class 'numpy.ndarray'>\n",
      "array1 shape:  (3,)\n",
      "array2 type:  <class 'numpy.ndarray'>\n",
      "array2 shape:  (2, 3)\n",
      "array3 type:  <class 'numpy.ndarray'>\n",
      "array3 shape:  (1, 3)\n"
     ]
    }
   ],
   "source": [
    "array1 = np.array([1,2,3]) #vector(1차원)\n",
    "print('array1 type: ', type(array1))\n",
    "print('array1 shape: ', array1.shape)\n",
    "\n",
    "array2= np.array([ [1,2,3],[3,4,5]])\n",
    "print('array2 type: ', type(array2))\n",
    "print('array2 shape: ', array2.shape)\n",
    "\n",
    "array3= np.array([[1,2,3]]) #2차원\n",
    "print('array3 type: ', type(array3))\n",
    "print('array3 shape: ', array3.shape)"
   ]
  },
  {
   "cell_type": "code",
   "execution_count": 8,
   "metadata": {},
   "outputs": [
    {
     "name": "stdout",
     "output_type": "stream",
     "text": [
      "array1: 1차원\n",
      "array2: 2차원\n",
      "array3:  2차원\n"
     ]
    }
   ],
   "source": [
    "print('array1: {:0}차원\\n\\\n",
    "array2: {:1}차원\\n\\\n",
    "array3: {:2}차원'.format(array1.ndim, array2.ndim, array3.ndim))"
   ]
  },
  {
   "cell_type": "code",
   "execution_count": 10,
   "metadata": {},
   "outputs": [
    {
     "name": "stdout",
     "output_type": "stream",
     "text": [
      "<class 'list'>\n",
      "<class 'numpy.ndarray'>\n",
      "[1 2 3] int32\n"
     ]
    }
   ],
   "source": [
    "list1= [1,2,3]\n",
    "print(type(list1))\n",
    "\n",
    "array1= np.array(list1)\n",
    "print(type(array1))\n",
    "print(array1, array1.dtype)"
   ]
  },
  {
   "cell_type": "code",
   "execution_count": 11,
   "metadata": {},
   "outputs": [
    {
     "name": "stdout",
     "output_type": "stream",
     "text": [
      "['1' '2' 'test'] <U11\n",
      "[1. 2. 3.] float64\n"
     ]
    }
   ],
   "source": [
    "list2= [1,2,'test']\n",
    "array2 = np.array(list2)\n",
    "print(array2, array2.dtype)\n",
    "\n",
    "list3=[1,2, 3.0]\n",
    "array3= np.array(list3) # 모든 원소가 float이 됨..\n",
    "print(array3, array3.dtype) "
   ]
  },
  {
   "cell_type": "code",
   "execution_count": 12,
   "metadata": {},
   "outputs": [
    {
     "name": "stdout",
     "output_type": "stream",
     "text": [
      "[1. 2. 3.] float64\n",
      "[1 2 3] int32\n",
      "[1 2 3] int32\n"
     ]
    }
   ],
   "source": [
    "array_int = np.array([1,2,3])\n",
    "array_float = array_int.astype('float64')\n",
    "print(array_float, array_float.dtype)\n",
    "\n",
    "array_int1= array_float.astype('int32')\n",
    "print(array_int1, array_int1.dtype)\n",
    "\n",
    "array_float1 = np.array([1.1, 2.1, 3.1])\n",
    "array_int2 = array_float1.astype('int32')\n",
    "print(array_int2, array_int2.dtype)"
   ]
  },
  {
   "cell_type": "markdown",
   "metadata": {},
   "source": [
    "# ndarray를 편리하게 생성하기 - arange, zeros, ones"
   ]
  },
  {
   "cell_type": "code",
   "execution_count": 14,
   "metadata": {},
   "outputs": [
    {
     "name": "stdout",
     "output_type": "stream",
     "text": [
      "[0 1 2 3 4 5 6 7 8 9]\n",
      "int32 (10,)\n"
     ]
    }
   ],
   "source": [
    "sequence_array = np.arange(10) # 0~9\n",
    "print(sequence_array)\n",
    "print(sequence_array.dtype, sequence_array.shape) "
   ]
  },
  {
   "cell_type": "code",
   "execution_count": 15,
   "metadata": {},
   "outputs": [
    {
     "name": "stdout",
     "output_type": "stream",
     "text": [
      "[[0 0]\n",
      " [0 0]\n",
      " [0 0]]\n",
      "shape: (3, 2)\n",
      " dtype: int32\n"
     ]
    }
   ],
   "source": [
    "zero_array = np.zeros( (3,2), dtype='int32')\n",
    "print(zero_array)\n",
    "print('shape: {}\\n dtype: {}'.format(zero_array.shape, zero_array.dtype))"
   ]
  },
  {
   "cell_type": "code",
   "execution_count": 16,
   "metadata": {},
   "outputs": [
    {
     "name": "stdout",
     "output_type": "stream",
     "text": [
      "[[1 1]\n",
      " [1 1]\n",
      " [1 1]]\n",
      "shape: (3, 2)\n",
      " dtype: int32\n"
     ]
    }
   ],
   "source": [
    "one_array = np.ones( (3,2), dtype='int32')\n",
    "print(one_array)\n",
    "print('shape: {}\\n dtype: {}'.format(one_array.shape, one_array.dtype))"
   ]
  },
  {
   "cell_type": "markdown",
   "metadata": {},
   "source": [
    "# ndarray의 차원과 크기를 변경하는 reshape()"
   ]
  },
  {
   "cell_type": "code",
   "execution_count": 19,
   "metadata": {},
   "outputs": [
    {
     "name": "stdout",
     "output_type": "stream",
     "text": [
      "array1:\n",
      "[0 1 2 3 4 5 6 7 8 9]\n",
      "\n",
      "array2:\n",
      "[[0 1 2 3 4]\n",
      " [5 6 7 8 9]]\n",
      "\n",
      "array3:\n",
      "[[0 5]\n",
      " [1 6]\n",
      " [2 7]\n",
      " [3 8]\n",
      " [4 9]]\n",
      "\n",
      "array3_2:\n",
      "[[0 1]\n",
      " [2 3]\n",
      " [4 5]\n",
      " [6 7]\n",
      " [8 9]]\n"
     ]
    }
   ],
   "source": [
    "array1 = np.arange(10)\n",
    "print('array1:\\n{}\\n'.format(array1))\n",
    "\n",
    "array2= array1.reshape(2,5)\n",
    "print('array2:\\n{}\\n'.format(array2))\n",
    "\n",
    "array3= array2.T # Transpose array2 \n",
    "print('array3:\\n{}\\n'.format(array3))\n",
    "\n",
    "array3_2 = array2.reshape(5,2)\n",
    "print('array3_2:\\n{}'.format(array3_2))"
   ]
  },
  {
   "cell_type": "code",
   "execution_count": 24,
   "metadata": {},
   "outputs": [
    {
     "name": "stdout",
     "output_type": "stream",
     "text": [
      "[0 1 2 3 4 5 6 7 8 9] \n",
      "\n",
      "array2.shape:  (2, 5)\n",
      "array2:  [[0 1 2 3 4]\n",
      " [5 6 7 8 9]] \n",
      "\n",
      "array3.shape:  (5, 2)\n",
      "array3:  [[0 1]\n",
      " [2 3]\n",
      " [4 5]\n",
      " [6 7]\n",
      " [8 9]]\n"
     ]
    }
   ],
   "source": [
    "array1= np.arange(10)\n",
    "print(array1,'\\n')\n",
    "\n",
    "array2= array1.reshape(-1, 5) # ?행 x 5열 = 10 , ?=2\n",
    "print('array2.shape: ', array2.shape)\n",
    "print('array2: ', array2,'\\n')\n",
    "\n",
    "array3= array1.reshape(5,-1)#  5 행x ?열=10 , ?=2\n",
    "print('array3.shape: ', array3.shape)\n",
    "print('array3: ', array3)"
   ]
  },
  {
   "cell_type": "code",
   "execution_count": 25,
   "metadata": {},
   "outputs": [
    {
     "ename": "ValueError",
     "evalue": "cannot reshape array of size 10 into shape (4)",
     "output_type": "error",
     "traceback": [
      "\u001b[1;31m---------------------------------------------------------------------------\u001b[0m",
      "\u001b[1;31mValueError\u001b[0m                                Traceback (most recent call last)",
      "\u001b[1;32m<ipython-input-25-8bc7c3a61ff7>\u001b[0m in \u001b[0;36m<module>\u001b[1;34m\u001b[0m\n\u001b[1;32m----> 1\u001b[1;33m \u001b[0marray4\u001b[0m\u001b[1;33m=\u001b[0m \u001b[0marray1\u001b[0m\u001b[1;33m.\u001b[0m\u001b[0mreshape\u001b[0m\u001b[1;33m(\u001b[0m\u001b[1;33m-\u001b[0m\u001b[1;36m1\u001b[0m\u001b[1;33m,\u001b[0m\u001b[1;36m4\u001b[0m\u001b[1;33m)\u001b[0m \u001b[1;31m# ?행 x 4열= 10, ?=2.5\u001b[0m\u001b[1;33m\u001b[0m\u001b[0m\n\u001b[0m\u001b[0;32m      2\u001b[0m \u001b[0mprint\u001b[0m\u001b[1;33m(\u001b[0m\u001b[1;34m'array4.shape: '\u001b[0m\u001b[1;33m,\u001b[0m \u001b[0marray4\u001b[0m\u001b[1;33m.\u001b[0m\u001b[0mshape\u001b[0m\u001b[1;33m)\u001b[0m\u001b[1;33m\u001b[0m\u001b[0m\n",
      "\u001b[1;31mValueError\u001b[0m: cannot reshape array of size 10 into shape (4)"
     ]
    }
   ],
   "source": [
    "array4= array1.reshape(-1,4) # ?행 x 4열= 10, ?=2.5\n",
    "print('array4.shape: ', array4.shape) # 행과 열은 양의정수로 나타낸다."
   ]
  },
  {
   "cell_type": "code",
   "execution_count": 26,
   "metadata": {},
   "outputs": [
    {
     "name": "stdout",
     "output_type": "stream",
     "text": [
      "array3d:\n",
      " [[[0, 1], [2, 3]], [[4, 5], [6, 7]]]\n",
      "array5:\n",
      " [[0], [1], [2], [3], [4], [5], [6], [7]]\n",
      "array5 shape:  (8, 1)\n",
      "array6:\n",
      " [[0], [1], [2], [3], [4], [5], [6], [7]]\n",
      "array6.shape:  (8, 1)\n"
     ]
    }
   ],
   "source": [
    "array1= np.arange(8)\n",
    "array3d = array1.reshape((2,2,2))\n",
    "print('array3d:\\n', array3d.tolist())\n",
    "\n",
    "# 3차원 ndarray를 2차원 ndarray로 변환\n",
    "array5 = array3d.reshape(-1,1)\n",
    "print('array5:\\n', array5.tolist())\n",
    "print('array5 shape: ', array5.shape)\n",
    "\n",
    "# 1차원 ndarray를 2차원 ndarray로 변환\n",
    "array6= array1.reshape(-1,1)\n",
    "print('array6:\\n', array6.tolist())\n",
    "print('array6.shape: ', array6.shape)"
   ]
  },
  {
   "cell_type": "markdown",
   "metadata": {},
   "source": [
    "# 넘파이의 ndarray의 데이터세트 선택하기 - 인덱싱(indexing)"
   ]
  },
  {
   "cell_type": "code",
   "execution_count": 27,
   "metadata": {},
   "outputs": [
    {
     "name": "stdout",
     "output_type": "stream",
     "text": [
      "array1:  [1 2 3 4 5 6 7 8 9]\n",
      "value:  3\n",
      "<class 'numpy.int32'>\n"
     ]
    }
   ],
   "source": [
    "# 1부터 9까지 1차원 ndarray생성\n",
    "array1= np.arange( start=1, stop=10)\n",
    "print('array1: ', array1)\n",
    "\n",
    "# index는 0부터 시작하므로 array1[2]는 3번째 index 위치의 데이터값을 의미\n",
    "value=array1[2]\n",
    "print('value: ', value)\n",
    "print(type(value))"
   ]
  },
  {
   "cell_type": "code",
   "execution_count": 30,
   "metadata": {},
   "outputs": [
    {
     "name": "stdout",
     "output_type": "stream",
     "text": [
      "맨 뒤의 값: 9, 맨뒤에서 두번째 값: 8\n"
     ]
    }
   ],
   "source": [
    "print('맨 뒤의 값: {}, 맨뒤에서 두번째 값: {}'.format(array1[-1], array1[-2]))"
   ]
  },
  {
   "cell_type": "markdown",
   "metadata": {},
   "source": [
    "## 다차원 ndarray에서 단일값을 추출하기"
   ]
  },
  {
   "cell_type": "code",
   "execution_count": 31,
   "metadata": {},
   "outputs": [
    {
     "name": "stdout",
     "output_type": "stream",
     "text": [
      "[[1 2 3]\n",
      " [4 5 6]\n",
      " [7 8 9]]\n",
      "(row=0, col=0) index 가리키는 값:  1\n",
      "(row=0, col=1) index 가리키는 값:  2\n",
      "(row=1, col=0) index 가리키는 값:  4\n",
      "(row=1, col=1) index 가리키는 값:  5\n",
      "(row=2, col=2) index 가리키는 값:  9\n"
     ]
    }
   ],
   "source": [
    "array1d = np.arange(start=1, stop=10) #[ 1,2,3,4,5,6,7,8,9]\n",
    "array2d = array1d.reshape(3,3) #3행 3열로 나타냄\n",
    "print(array2d)\n",
    "\n",
    "print('(row=0, col=0) index 가리키는 값: ', array2d[0,0])\n",
    "print('(row=0, col=1) index 가리키는 값: ', array2d[0,1])\n",
    "print('(row=1, col=0) index 가리키는 값: ', array2d[1,0])\n",
    "print('(row=1, col=1) index 가리키는 값: ', array2d[1,1])\n",
    "print('(row=2, col=2) index 가리키는 값: ', array2d[2,2])"
   ]
  },
  {
   "cell_type": "markdown",
   "metadata": {},
   "source": [
    "# 슬라이싱(slicing)"
   ]
  },
  {
   "cell_type": "code",
   "execution_count": 33,
   "metadata": {},
   "outputs": [
    {
     "name": "stdout",
     "output_type": "stream",
     "text": [
      "[1 2 3]\n",
      "<class 'numpy.ndarray'>\n",
      "[1 2 3]\n",
      "[4 5 6 7 8 9]\n",
      "[1 2 3 4 5 6 7 8 9]\n"
     ]
    }
   ],
   "source": [
    "array1 = np.arange(start=1, stop=10)\n",
    "array3 = array1[0:3]\n",
    "print(array3)\n",
    "print(type(array3))\n",
    "\n",
    "\n",
    "array4= array1[:3]\n",
    "print(array4)\n",
    "\n",
    "array5 =array1[3:]\n",
    "print(array5)\n",
    "\n",
    "array6= array1[:]\n",
    "print(array6)"
   ]
  },
  {
   "cell_type": "code",
   "execution_count": 35,
   "metadata": {},
   "outputs": [
    {
     "name": "stdout",
     "output_type": "stream",
     "text": [
      "array2d:\n",
      " [[1 2 3]\n",
      " [4 5 6]\n",
      " [7 8 9]] \n",
      "\n",
      "array2d[0:2, 0:2]\n",
      " [[1 2]\n",
      " [4 5]] \n",
      "\n",
      "array2d[1:3, 0:3]\n",
      " [[4 5 6]\n",
      " [7 8 9]] \n",
      "\n",
      "array2d[1:3, :]\n",
      " [[4 5 6]\n",
      " [7 8 9]] \n",
      "\n",
      "array2d[:, :]\n",
      " [[1 2 3]\n",
      " [4 5 6]\n",
      " [7 8 9]] \n",
      "\n",
      "array2d[:2, 1:]\n",
      " [[2 3]\n",
      " [5 6]] \n",
      "\n",
      "array2d[:2, 0]\n",
      " [1 4]\n"
     ]
    }
   ],
   "source": [
    "\n",
    "array1d= np.arange(start=1, stop=10)\n",
    "array2d= array1d.reshape(3,3)\n",
    "print('array2d:\\n', array2d, '\\n')\n",
    "\n",
    "print('array2d[0:2, 0:2]\\n', array2d[0:2, 0:2], '\\n')\n",
    "print('array2d[1:3, 0:3]\\n', array2d[1:3, 0:3], '\\n')\n",
    "\n",
    "print('array2d[1:3, :]\\n', array2d[1:3, :], '\\n')\n",
    "print('array2d[:, :]\\n', array2d[:, :], '\\n')\n",
    "\n",
    "print('array2d[:2, 1:]\\n', array2d[:2, 1:], '\\n')\n",
    "print('array2d[:2, 0]\\n', array2d[:2, 0])"
   ]
  },
  {
   "cell_type": "markdown",
   "metadata": {},
   "source": [
    "# Fancy Indexing"
   ]
  },
  {
   "cell_type": "code",
   "execution_count": 38,
   "metadata": {},
   "outputs": [
    {
     "name": "stdout",
     "output_type": "stream",
     "text": [
      "array2d[ [0,1], 2]=>  [3 6]\n",
      "array2d[ [0,1], 0:2]\n",
      " [[1 2]\n",
      " [4 5]] \n",
      "\n",
      "array2d[[0,1]]\n",
      " [[1 2 3]\n",
      " [4 5 6]]\n"
     ]
    }
   ],
   "source": [
    "array1d = np.arange(start=1, stop=10)\n",
    "array2d = array1d.reshape(3,3)\n",
    "\n",
    "array3 = array2d[ [0,1], 2]\n",
    "print('array2d[ [0,1], 2]=> ', array3)\n",
    "\n",
    "array4= array2d[ [0,1], 0:2]\n",
    "print('array2d[ [0,1], 0:2]\\n', array4,'\\n')\n",
    "\n",
    "array5= array2d[[0,1]]\n",
    "print('array2d[[0,1]]\\n', array5)"
   ]
  },
  {
   "cell_type": "markdown",
   "metadata": {},
   "source": [
    "# Boolean Indexing"
   ]
  },
  {
   "cell_type": "code",
   "execution_count": 39,
   "metadata": {},
   "outputs": [
    {
     "name": "stdout",
     "output_type": "stream",
     "text": [
      "array1d >5 boolean indexing result: \n",
      " [6 7 8 9]\n"
     ]
    }
   ],
   "source": [
    "array1d=  np.arange(start=1, stop=10)\n",
    "\n",
    "# [ ] 안에 array1d > 5 Boolean indexing을 적용한다.\n",
    "array3= array1d[ array1d>5 ]\n",
    "print('array1d >5 boolean indexing result: \\n', array3)"
   ]
  },
  {
   "cell_type": "code",
   "execution_count": 41,
   "metadata": {},
   "outputs": [
    {
     "data": {
      "text/plain": [
       "array([False, False, False, False, False,  True,  True,  True,  True])"
      ]
     },
     "execution_count": 41,
     "metadata": {},
     "output_type": "execute_result"
    }
   ],
   "source": [
    "array1d>5"
   ]
  },
  {
   "cell_type": "code",
   "execution_count": 43,
   "metadata": {},
   "outputs": [
    {
     "name": "stdout",
     "output_type": "stream",
     "text": [
      "filtered boolean index result:  [6 7 8 9]\n"
     ]
    }
   ],
   "source": [
    "boolean_indexes= np.array(array1d>5)\n",
    "array3= array1d[boolean_indexes]\n",
    "print('filtered boolean index result: ', array3)"
   ]
  },
  {
   "cell_type": "code",
   "execution_count": 47,
   "metadata": {},
   "outputs": [
    {
     "name": "stdout",
     "output_type": "stream",
     "text": [
      "general index result:  [6 7 8 9]\n"
     ]
    }
   ],
   "source": [
    "indexes= np.arange(start=5,stop=9) # [5,6,7,8]\n",
    "array4 =array1d[indexes]\n",
    "print('general index result: ', array4)"
   ]
  },
  {
   "cell_type": "markdown",
   "metadata": {},
   "source": [
    "# 행렬의 정렬: sort(), argsort()"
   ]
  },
  {
   "cell_type": "code",
   "execution_count": 48,
   "metadata": {},
   "outputs": [
    {
     "name": "stdout",
     "output_type": "stream",
     "text": [
      "원본 행렬:  [3 1 9 5]\n",
      "np.sort() 호출 후 반환된 정렬 행렬:  [1 3 5 9]\n",
      "org_array.sort() 호출 후 반환된 행렬:  None\n",
      "org_array.sort() 호출 후 원본 행렬:  [1 3 5 9]\n"
     ]
    }
   ],
   "source": [
    "org_array = np.array([3,1,9,5])\n",
    "print('원본 행렬: ', org_array)\n",
    "\n",
    "# np.sort()로 정렬\n",
    "sort_array1 = np.sort(org_array)\n",
    "print('np.sort() 호출 후 반환된 정렬 행렬: ', sort_array1)\n",
    "\n",
    "# ndarray.sort() 로 정렬\n",
    "sort_array2 = org_array.sort()\n",
    "print('org_array.sort() 호출 후 반환된 행렬: ', sort_array2)\n",
    "print('org_array.sort() 호출 후 원본 행렬: ', org_array)"
   ]
  },
  {
   "cell_type": "code",
   "execution_count": 49,
   "metadata": {},
   "outputs": [
    {
     "name": "stdout",
     "output_type": "stream",
     "text": [
      "내림차순으로 정렬;  [9 5 3 1]\n"
     ]
    }
   ],
   "source": [
    "# 내림차순으로 정렬\n",
    "sort_array1_desc = np.sort(org_array)[::-1]\n",
    "print('내림차순으로 정렬; ', sort_array1_desc)"
   ]
  },
  {
   "cell_type": "code",
   "execution_count": 51,
   "metadata": {},
   "outputs": [
    {
     "name": "stdout",
     "output_type": "stream",
     "text": [
      "row방향- axis=0 - 방향으로 정렬: \n",
      " [[ 7  1]\n",
      " [ 8 12]] \n",
      "\n",
      "column방향- axis=1 - 방향으로 정렬: \n",
      " [[ 8 12]\n",
      " [ 1  7]]\n"
     ]
    }
   ],
   "source": [
    "# 행렬이 2차원 이상일 경우에 axis 축값 설정을 통해\n",
    "# row방향, column 방향으로 정렬을 수행할 수 있다.\n",
    "\n",
    "array2d = np.array([ [8,12], [7,1] ])\n",
    "sort_array2d_axis0 =np.sort(array2d, axis=0)\n",
    "print('row방향- axis=0 - 방향으로 정렬: \\n', sort_array2d_axis0,'\\n')\n",
    "\n",
    "sort_array2d_axis1= np.sort(array2d, axis=1)\n",
    "print('column방향- axis=1 - 방향으로 정렬: \\n', sort_array2d_axis1)"
   ]
  },
  {
   "cell_type": "markdown",
   "metadata": {},
   "source": [
    "## 정렬된 행렬의 인덱스를 반환하기"
   ]
  },
  {
   "cell_type": "code",
   "execution_count": 52,
   "metadata": {},
   "outputs": [
    {
     "name": "stdout",
     "output_type": "stream",
     "text": [
      "<class 'numpy.ndarray'>\n",
      "행렬 정렬 시 원본 행렬의 인덱스:  [1 0 3 2]\n"
     ]
    }
   ],
   "source": [
    "org_array = np.array([3,1,9,5])\n",
    "sort_indices = np.argsort(org_array)\n",
    "print(type(sort_indices))\n",
    "print('행렬 정렬 시 원본 행렬의 인덱스: ', sort_indices)"
   ]
  },
  {
   "cell_type": "code",
   "execution_count": 55,
   "metadata": {},
   "outputs": [
    {
     "name": "stdout",
     "output_type": "stream",
     "text": [
      "<class 'numpy.ndarray'>\n",
      "행렬 정렬 시 원본 행렬의 인덱스:  [1 0 3 2]\n"
     ]
    }
   ],
   "source": [
    "org_array = np.array([3,1,9,5])\n",
    "sort_indices= np.argsort(org_array)\n",
    "print(type(sort_indices))\n",
    "print('행렬 정렬 시 원본 행렬의 인덱스: ', sort_indices)"
   ]
  },
  {
   "cell_type": "code",
   "execution_count": 62,
   "metadata": {},
   "outputs": [
    {
     "name": "stdout",
     "output_type": "stream",
     "text": [
      "highest-score-index: [3 1 4 2 0]\n",
      "1 등:  Kate => 98점\n",
      "2 등:  Mike => 95점\n",
      "3 등:  Samuel => 88점\n"
     ]
    }
   ],
   "source": [
    "name_array = ['John', 'Mike', 'Sarah', 'Kate', 'Samuel']\n",
    "score_array = [78, 95, 84, 98, 88]\n",
    "\n",
    "rank_score = np.argsort(score_array)[::-1] #내림차순\n",
    "print('highest-score-index:', rank_score)\n",
    "\n",
    "for i in range(0,3):\n",
    "    print(i+1,'등: ', name_array[rank_score[i]], '=> {}점'.format(score_array[rank_score[i]]))"
   ]
  },
  {
   "cell_type": "markdown",
   "metadata": {},
   "source": [
    "# 선형대수 연산 - 행렬 내적과 전치 행렬 구하기\n",
    "\n",
    "## 행렬 내적(행렬 곱)"
   ]
  },
  {
   "cell_type": "code",
   "execution_count": 67,
   "metadata": {},
   "outputs": [
    {
     "name": "stdout",
     "output_type": "stream",
     "text": [
      "A:\n",
      "[[1 2 3]\n",
      " [4 5 6]]\n",
      "\n",
      "B:\n",
      "[[ 7  8]\n",
      " [ 9 10]\n",
      " [11 12]]\n",
      "\n",
      "np.dot(A,B)=\n",
      "[[ 58  64]\n",
      " [139 154]]\n"
     ]
    }
   ],
   "source": [
    "A=np.arange(start=1, stop=7).reshape(2,3)\n",
    "print('A:\\n{}\\n'.format(A))\n",
    "\n",
    "B=np.arange(start=7, stop=13).reshape(3,2)\n",
    "print('B:\\n{}\\n'.format(B))\n",
    "\n",
    "# A* B 내적결과\n",
    "A_dot_B= np.dot(A,B)\n",
    "print('np.dot(A,B)=\\n{}'.format(A_dot_B))"
   ]
  },
  {
   "cell_type": "markdown",
   "metadata": {},
   "source": [
    "# 전치행렬(Transpose)"
   ]
  },
  {
   "cell_type": "code",
   "execution_count": 68,
   "metadata": {},
   "outputs": [
    {
     "name": "stdout",
     "output_type": "stream",
     "text": [
      "[[1 2]\n",
      " [3 4]] \n",
      "\n",
      "[[1 3]\n",
      " [2 4]]\n"
     ]
    }
   ],
   "source": [
    "A= np.arange(start=1, stop=5).reshape(2,2)\n",
    "print(A,'\\n')\n",
    "\n",
    "AT= A.T #np.transpose(A)\n",
    "print(AT)"
   ]
  },
  {
   "cell_type": "code",
   "execution_count": null,
   "metadata": {},
   "outputs": [],
   "source": []
  }
 ],
 "metadata": {
  "kernelspec": {
   "display_name": "Python 3",
   "language": "python",
   "name": "python3"
  },
  "language_info": {
   "codemirror_mode": {
    "name": "ipython",
    "version": 3
   },
   "file_extension": ".py",
   "mimetype": "text/x-python",
   "name": "python",
   "nbconvert_exporter": "python",
   "pygments_lexer": "ipython3",
   "version": "3.7.0"
  }
 },
 "nbformat": 4,
 "nbformat_minor": 2
}
